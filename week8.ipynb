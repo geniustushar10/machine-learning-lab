{
  "nbformat": 4,
  "nbformat_minor": 0,
  "metadata": {
    "colab": {
      "provenance": []
    },
    "kernelspec": {
      "name": "python3",
      "display_name": "Python 3"
    },
    "language_info": {
      "name": "python"
    }
  },
  "cells": [
    {
      "cell_type": "code",
      "execution_count": 1,
      "metadata": {
        "id": "b-mNmaYmFrJL"
      },
      "outputs": [],
      "source": [
        "import numpy as np\n",
        "\n",
        "# Input (features) and output (target)\n",
        "X = np.array(([2, 9], [1, 5], [3, 6]), dtype=float)  # Inputs: [sleep, study]\n",
        "y = np.array(([92], [86], [89]), dtype=float)  # Outputs: [Expected % in Exams]"
      ]
    },
    {
      "cell_type": "code",
      "source": [
        "# Normalize the data\n",
        "X = X / np.amax(X, axis=0)  # Normalize input features\n",
        "y = y / 100  # Normalize output\n",
        "\n",
        "# Parameters\n",
        "epoch = 5000  # Number of training iterations\n",
        "lr = 0.1  # Learning rate\n",
        "inputlayer_neurons = 2  # Number of input features\n",
        "hiddenlayer_neurons = 3  # Number of neurons in the hidden layer\n",
        "output_neurons = 1  # Number of neurons in the output layer"
      ],
      "metadata": {
        "id": "Wv4lk5KZF2s_"
      },
      "execution_count": 2,
      "outputs": []
    },
    {
      "cell_type": "code",
      "source": [
        "# Weight and bias initialization\n",
        "wh = np.random.uniform(size=(inputlayer_neurons, hiddenlayer_neurons))  # Weights from input to hidden layer\n",
        "bh = np.random.uniform(size=(1, hiddenlayer_neurons))  # Bias for hidden layer\n",
        "wout = np.random.uniform(size=(hiddenlayer_neurons, output_neurons))  # Weights from hidden to output layer\n",
        "bout = np.random.uniform(size=(1, output_neurons))  # Bias for output layer"
      ],
      "metadata": {
        "id": "DELHDw-DGBaN"
      },
      "execution_count": 3,
      "outputs": []
    },
    {
      "cell_type": "code",
      "source": [
        "# Sigmoid function\n",
        "def sigmoid(x):\n",
        "    return 1 / (1 + np.exp(-x))\n",
        "\n",
        "# Derivative of sigmoid function\n",
        "def derivatives_sigmoid(x):\n",
        "    return x * (1 - x)\n",
        "\n",
        "# Training the neural network\n",
        "for i in range(epoch):\n",
        "    # Forward propagation\n",
        "    hinp1 = np.dot(X, wh)\n",
        "    hinp = hinp1 + bh\n",
        "    hlayer_act = sigmoid(hinp)\n",
        "\n",
        "    outinp1 = np.dot(hlayer_act, wout)\n",
        "    outinp = outinp1 + bout\n",
        "    output = sigmoid(outinp)\n",
        "\n",
        "    # Backpropagation\n",
        "    EO = y - output  # Error at output\n",
        "    outgrad = derivatives_sigmoid(output)\n",
        "    d_output = EO * outgrad\n",
        "\n",
        "    EH = d_output.dot(wout.T)  # Error at hidden layer\n",
        "    hiddengrad = derivatives_sigmoid(hlayer_act)\n",
        "    d_hiddenlayer = EH * hiddengrad\n",
        "\n",
        "    # Updating weights and biases\n",
        "    wout += hlayer_act.T.dot(d_output) * lr\n",
        "    wh += X.T.dot(d_hiddenlayer) * lr\n",
        "    bout += np.sum(d_output, axis=0, keepdims=True) * lr\n",
        "    bh += np.sum(d_hiddenlayer, axis=0, keepdims=True) * lr"
      ],
      "metadata": {
        "id": "xlozZr_NGFDV"
      },
      "execution_count": 4,
      "outputs": []
    },
    {
      "cell_type": "code",
      "source": [
        "# Print results\n",
        "print(\"Input: \\n\" + str(X))\n",
        "print(\"Actual Output: \\n\" + str(y))\n",
        "print(\"Predicted Output: \\n\", output)"
      ],
      "metadata": {
        "colab": {
          "base_uri": "https://localhost:8080/"
        },
        "id": "bGZ3P4LDGI19",
        "outputId": "c7b05c04-0b82-414a-cb3e-93166b2a91dc"
      },
      "execution_count": 5,
      "outputs": [
        {
          "output_type": "stream",
          "name": "stdout",
          "text": [
            "Input: \n",
            "[[0.66666667 1.        ]\n",
            " [0.33333333 0.55555556]\n",
            " [1.         0.66666667]]\n",
            "Actual Output: \n",
            "[[0.92]\n",
            " [0.86]\n",
            " [0.89]]\n",
            "Predicted Output: \n",
            " [[0.89471114]\n",
            " [0.87911988]\n",
            " [0.89516878]]\n"
          ]
        }
      ]
    },
    {
      "cell_type": "code",
      "source": [],
      "metadata": {
        "id": "D9nugEfBGKuN"
      },
      "execution_count": null,
      "outputs": []
    }
  ]
}